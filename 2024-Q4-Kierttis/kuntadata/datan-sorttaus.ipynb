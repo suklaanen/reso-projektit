{
 "cells": [
  {
   "cell_type": "code",
   "execution_count": null,
   "metadata": {},
   "outputs": [
    {
     "name": "stdout",
     "output_type": "stream",
     "text": [
      "Data tallennettu tiedostoon 'sorted_maakunnat.json'\n"
     ]
    }
   ],
   "source": [
    "# Kuntadatan lähde: https://stat.fi/fi/luokitukset/corrmaps/kunta_1_20240101%23hyvinvointialue_1_20240101 \n",
    "## Kopioitu nämä txt-tiedostoon, poistettu jokaisen rivin alusta 4 merkkiä (numerosarja ja välilyönti)\n",
    "\n",
    "import json\n",
    "from collections import defaultdict\n",
    "\n",
    "with open(\"kuntadata2.txt\", \"r\", encoding=\"utf-8\") as file:\n",
    "    lines = file.readlines()\n",
    "\n",
    "maakunnat = defaultdict(list)\n",
    "\n",
    "for line in lines:\n",
    "    kunta, maakunta = line.strip().rsplit('\\t', 1)\n",
    "    maakunnat[maakunta].append(kunta)\n",
    "\n",
    "# maakunnat ja kunnat aakkojärjestykseen\n",
    "sorted_maakunnat = {maakunta: sorted(kunnat) for maakunta, kunnat in sorted(maakunnat.items())}\n",
    "\n",
    "# tiedot jsoniksi\n",
    "with open(\"sorted_maakunnat.json\", \"w\", encoding=\"utf-8\") as json_file:\n",
    "    json.dump(sorted_maakunnat, json_file, ensure_ascii=False, indent=4)\n",
    "\n",
    "print(\"Data tallennettu tiedostoon 'sorted_maakunnat.json'\")\n"
   ]
  }
 ],
 "metadata": {
  "kernelspec": {
   "display_name": "Python 3",
   "language": "python",
   "name": "python3"
  },
  "language_info": {
   "codemirror_mode": {
    "name": "ipython",
    "version": 3
   },
   "file_extension": ".py",
   "mimetype": "text/x-python",
   "name": "python",
   "nbconvert_exporter": "python",
   "pygments_lexer": "ipython3",
   "version": "3.11.5"
  }
 },
 "nbformat": 4,
 "nbformat_minor": 2
}
